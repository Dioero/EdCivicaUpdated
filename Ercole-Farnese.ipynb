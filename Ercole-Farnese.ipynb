{
 "cells": [
  {
   "cell_type": "markdown",
   "id": "6c45311b",
   "metadata": {},
   "source": [
    "<img align=\"central\" width=\"20%\" src=\"https://www.ilpuntoquotidiano.it/wp-content/uploads/2019/07/Ercole-Farnese-160x300.jpg\">"
   ]
  },
  {
   "cell_type": "markdown",
   "id": "7320008c",
   "metadata": {},
   "source": [
    " [Dimensioni e caratteristiche](Dimensioni-e-caratteristiche.ipynb)"
   ]
  }
 ],
 "metadata": {
  "hide_input": true,
  "kernelspec": {
   "display_name": "Python 3 (ipykernel)",
   "language": "python",
   "name": "python3"
  },
  "language_info": {
   "codemirror_mode": {
    "name": "ipython",
    "version": 3
   },
   "file_extension": ".py",
   "mimetype": "text/x-python",
   "name": "python",
   "nbconvert_exporter": "python",
   "pygments_lexer": "ipython3",
   "version": "3.10.2"
  }
 },
 "nbformat": 4,
 "nbformat_minor": 5
}
