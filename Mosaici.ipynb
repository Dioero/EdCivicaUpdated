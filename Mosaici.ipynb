{
 "cells": [
  {
   "cell_type": "markdown",
   "id": "476e7b67",
   "metadata": {},
   "source": [
    "<img align=\"left\" width=\"200\" src=\" https://artepiu.info/wp-content/uploads/2018/12/Mosaici-Geometrici-Terme-Toro-177x300.jpg\">\n",
    "<img align=\"central\" width=\"350\" src=\"https://artepiu.info/wp-content/uploads/2018/12/Mosaici-Geometrici-Terme-Putto-Cocchiere-3-300x300.jpg\n",
    "\">\n"
   ]
  },
  {
   "cell_type": "markdown",
   "id": "2f027a26",
   "metadata": {},
   "source": [
    "[Dimensioni e caratteristiche](Dimensioni-e-caratteristiche.ipynb)"
   ]
  }
 ],
 "metadata": {
  "hide_input": false,
  "kernelspec": {
   "display_name": "Python 3 (ipykernel)",
   "language": "python",
   "name": "python3"
  },
  "language_info": {
   "codemirror_mode": {
    "name": "ipython",
    "version": 3
   },
   "file_extension": ".py",
   "mimetype": "text/x-python",
   "name": "python",
   "nbconvert_exporter": "python",
   "pygments_lexer": "ipython3",
   "version": "3.10.2"
  }
 },
 "nbformat": 4,
 "nbformat_minor": 5
}
